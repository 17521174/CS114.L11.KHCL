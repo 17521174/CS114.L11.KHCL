{
  "nbformat": 4,
  "nbformat_minor": 0,
  "metadata": {
    "colab": {
      "name": "Untitled1.ipynb",
      "provenance": [],
      "authorship_tag": "ABX9TyNkPDzJZ6V9KH9JcVhGjZJz",
      "include_colab_link": true
    },
    "kernelspec": {
      "name": "python3",
      "display_name": "Python 3"
    }
  },
  "cells": [
    {
      "cell_type": "markdown",
      "metadata": {
        "id": "view-in-github",
        "colab_type": "text"
      },
      "source": [
        "<a href=\"https://colab.research.google.com/github/17521174/CS114.L11.KHCL/blob/master/Logistic%20Regression%20-%20Huy-Vy.ipynb\" target=\"_parent\"><img src=\"https://colab.research.google.com/assets/colab-badge.svg\" alt=\"Open In Colab\"/></a>"
      ]
    },
    {
      "cell_type": "code",
      "metadata": {
        "id": "6Eg9j8czWGcO",
        "outputId": "83257561-1ce3-4006-af9f-188e07825b76",
        "colab": {
          "base_uri": "https://localhost:8080/",
          "height": 1000
        }
      },
      "source": [
        "import pandas as pd\n",
        "import numpy as np\n",
        "import seaborn as sns\n",
        "import matplotlib.pyplot as plt\n",
        "from sklearn.linear_model import LogisticRegression\n",
        "from sklearn import datasets\n",
        "from sklearn.model_selection import train_test_split\n",
        "\n",
        "#import data\n",
        "dataset = pd.read_csv('fetal_health.csv')\n",
        "\n",
        "dataset.head()\n",
        "\n",
        "#Counting labels\n",
        "dataset[\"fetal_health\"].value_counts()\n",
        "\n",
        "dataset.shape\n",
        "\n",
        "X = dataset.drop([\"fetal_health\"],axis=1).values\n",
        "Y = dataset[\"fetal_health\"].values\n",
        "X_train,X_test,Y_train,Y_test = train_test_split(X,Y,test_size = 0.3, random_state = 0)\n",
        "\n",
        "print(X_train.shape)\n",
        "print(Y_train.shape)\n",
        "\n",
        "print(X)\n",
        "print(Y)\n",
        "\n",
        "logreg = LogisticRegression(C=1e5)\n",
        "\n",
        "# Create an instance of Logistic Regression Classifier and fit the data.\n",
        "logreg.fit(X_train, Y_train.ravel())\n",
        "Y_pred = logreg.predict(X_test)\n",
        "print(Y_pred)\n",
        "\n",
        "print(Y_test)\n",
        "\n",
        "column_names = [c for c in dataset.columns]\n",
        "\n",
        "#show\n",
        "for c in column_names:\n",
        "    try:\n",
        "        plt.title(\"Distribution of {}\".format(c))\n",
        "        sns.distplot(data[c])\n",
        "        plt.show()\n",
        "    except:\n",
        "        print(\"Not Eligible\")\n",
        "\n",
        "#accuracy score\n",
        "from sklearn.metrics import accuracy_score\n",
        "accuracy_score(Y_test,Y_pred)"
      ],
      "execution_count": 2,
      "outputs": [
        {
          "output_type": "stream",
          "text": [
            "(1488, 21)\n",
            "(1488,)\n",
            "[[1.20e+02 0.00e+00 0.00e+00 ... 1.21e+02 7.30e+01 1.00e+00]\n",
            " [1.32e+02 6.00e-03 0.00e+00 ... 1.40e+02 1.20e+01 0.00e+00]\n",
            " [1.33e+02 3.00e-03 0.00e+00 ... 1.38e+02 1.30e+01 0.00e+00]\n",
            " ...\n",
            " [1.40e+02 1.00e-03 0.00e+00 ... 1.52e+02 4.00e+00 1.00e+00]\n",
            " [1.40e+02 1.00e-03 0.00e+00 ... 1.51e+02 4.00e+00 1.00e+00]\n",
            " [1.42e+02 2.00e-03 2.00e-03 ... 1.45e+02 1.00e+00 0.00e+00]]\n",
            "[2. 1. 1. ... 2. 2. 1.]\n",
            "[1. 1. 1. 1. 2. 1. 1. 1. 1. 2. 3. 1. 1. 1. 1. 1. 1. 1. 1. 2. 1. 1. 1. 3.\n",
            " 1. 1. 1. 1. 1. 2. 1. 1. 1. 1. 1. 1. 2. 1. 2. 1. 1. 2. 1. 1. 2. 1. 1. 1.\n",
            " 1. 1. 1. 1. 1. 1. 1. 1. 1. 1. 1. 1. 1. 1. 1. 1. 1. 2. 1. 1. 1. 1. 1. 1.\n",
            " 1. 1. 1. 1. 2. 1. 1. 1. 1. 1. 1. 1. 1. 1. 2. 1. 1. 1. 1. 1. 1. 1. 2. 1.\n",
            " 1. 1. 1. 2. 2. 1. 1. 3. 2. 1. 1. 1. 3. 1. 1. 1. 2. 1. 1. 1. 1. 1. 1. 1.\n",
            " 3. 1. 1. 1. 1. 1. 1. 1. 1. 2. 1. 1. 1. 1. 3. 1. 2. 1. 1. 1. 1. 2. 1. 2.\n",
            " 1. 2. 3. 1. 1. 1. 1. 1. 1. 1. 1. 1. 1. 1. 3. 1. 2. 1. 1. 1. 1. 1. 1. 1.\n",
            " 1. 1. 3. 1. 1. 1. 1. 1. 1. 3. 1. 1. 1. 1. 1. 1. 1. 1. 3. 1. 1. 1. 1. 1.\n",
            " 2. 1. 1. 1. 3. 1. 1. 3. 2. 1. 3. 2. 1. 1. 1. 1. 1. 2. 1. 1. 1. 1. 1. 1.\n",
            " 1. 1. 3. 1. 1. 1. 3. 1. 1. 1. 1. 1. 3. 1. 1. 1. 1. 1. 3. 1. 3. 1. 1. 3.\n",
            " 2. 3. 2. 1. 1. 1. 1. 1. 1. 1. 1. 1. 1. 1. 1. 1. 3. 1. 1. 3. 1. 3. 1. 1.\n",
            " 1. 1. 1. 2. 1. 3. 1. 3. 1. 2. 1. 1. 1. 2. 1. 1. 1. 1. 1. 1. 1. 1. 3. 3.\n",
            " 1. 1. 1. 1. 1. 2. 3. 1. 3. 1. 3. 3. 1. 1. 1. 3. 1. 3. 1. 2. 1. 3. 1. 1.\n",
            " 1. 1. 1. 1. 1. 1. 1. 3. 1. 1. 1. 1. 1. 1. 1. 1. 1. 2. 1. 3. 1. 1. 1. 3.\n",
            " 3. 1. 2. 2. 2. 1. 1. 1. 2. 1. 1. 1. 1. 1. 1. 1. 1. 1. 1. 1. 1. 1. 1. 1.\n",
            " 1. 1. 1. 1. 1. 1. 1. 1. 1. 1. 1. 1. 1. 1. 1. 1. 1. 1. 1. 3. 1. 2. 1. 1.\n",
            " 1. 1. 1. 1. 1. 1. 3. 2. 1. 1. 1. 1. 1. 2. 1. 1. 1. 1. 1. 1. 1. 3. 1. 1.\n",
            " 1. 1. 1. 3. 1. 1. 1. 1. 1. 1. 1. 1. 1. 2. 1. 3. 1. 1. 1. 1. 1. 1. 1. 1.\n",
            " 2. 1. 1. 1. 1. 1. 1. 1. 1. 2. 1. 1. 1. 1. 1. 1. 1. 1. 1. 1. 1. 1. 1. 1.\n",
            " 1. 1. 1. 3. 3. 1. 1. 1. 1. 2. 1. 1. 1. 2. 1. 1. 1. 2. 1. 1. 1. 1. 2. 1.\n",
            " 1. 1. 1. 1. 1. 1. 1. 1. 2. 1. 1. 1. 1. 1. 1. 1. 1. 1. 3. 1. 3. 1. 1. 1.\n",
            " 1. 1. 1. 1. 1. 1. 1. 1. 2. 3. 1. 3. 1. 3. 1. 3. 1. 1. 1. 1. 1. 1. 1. 1.\n",
            " 1. 1. 1. 1. 1. 3. 1. 2. 1. 1. 1. 1. 1. 1. 3. 1. 1. 1. 1. 1. 1. 1. 3. 2.\n",
            " 1. 2. 1. 1. 1. 1. 1. 1. 1. 1. 1. 1. 1. 1. 1. 1. 1. 1. 2. 3. 3. 2. 1. 1.\n",
            " 1. 1. 1. 2. 1. 1. 1. 1. 1. 3. 1. 1. 1. 1. 1. 1. 1. 1. 1. 1. 1. 1. 1. 1.\n",
            " 1. 2. 1. 1. 2. 1. 1. 2. 1. 1. 1. 1. 1. 1. 1. 2. 1. 2. 1. 2. 1. 1. 1. 1.\n",
            " 1. 3. 1. 1. 1. 1. 1. 3. 1. 1. 1. 1. 1. 1.]\n",
            "[1. 1. 1. 1. 2. 1. 1. 1. 1. 2. 3. 1. 1. 1. 1. 1. 1. 1. 1. 2. 1. 1. 1. 3.\n",
            " 1. 1. 1. 2. 1. 2. 1. 1. 1. 1. 1. 1. 2. 1. 3. 1. 1. 2. 1. 1. 2. 1. 1. 1.\n",
            " 1. 1. 1. 1. 2. 1. 1. 1. 1. 1. 2. 1. 1. 1. 1. 2. 1. 2. 1. 1. 1. 1. 1. 2.\n",
            " 1. 1. 1. 1. 2. 1. 1. 1. 1. 1. 1. 1. 1. 1. 1. 1. 1. 1. 2. 1. 1. 1. 2. 1.\n",
            " 1. 1. 1. 2. 1. 1. 1. 3. 2. 2. 1. 1. 3. 2. 1. 1. 1. 1. 1. 1. 2. 2. 1. 1.\n",
            " 3. 2. 1. 1. 1. 1. 1. 1. 1. 3. 1. 1. 1. 2. 3. 1. 2. 1. 1. 1. 1. 1. 1. 2.\n",
            " 1. 2. 3. 1. 1. 1. 1. 1. 1. 2. 1. 1. 1. 1. 1. 1. 2. 1. 1. 1. 1. 1. 1. 1.\n",
            " 1. 1. 1. 1. 1. 1. 1. 1. 1. 3. 1. 1. 1. 1. 1. 1. 1. 1. 3. 1. 2. 3. 1. 1.\n",
            " 1. 1. 1. 1. 3. 3. 1. 3. 1. 2. 3. 1. 3. 1. 1. 1. 1. 2. 1. 1. 1. 3. 1. 1.\n",
            " 1. 1. 2. 1. 2. 1. 3. 1. 1. 1. 1. 2. 3. 1. 1. 2. 1. 1. 1. 1. 3. 2. 1. 1.\n",
            " 2. 3. 1. 1. 1. 1. 1. 1. 1. 1. 2. 1. 1. 1. 1. 2. 3. 1. 1. 1. 2. 1. 1. 1.\n",
            " 1. 1. 1. 2. 1. 3. 1. 3. 1. 3. 1. 1. 1. 2. 1. 1. 1. 1. 1. 1. 1. 1. 2. 3.\n",
            " 2. 2. 1. 2. 1. 3. 1. 1. 3. 1. 3. 3. 1. 1. 1. 3. 1. 3. 1. 2. 1. 3. 1. 1.\n",
            " 1. 1. 1. 1. 1. 1. 1. 3. 1. 1. 1. 1. 2. 1. 1. 1. 1. 1. 1. 3. 1. 1. 1. 3.\n",
            " 3. 1. 2. 2. 1. 2. 1. 2. 1. 1. 1. 1. 1. 1. 1. 1. 1. 1. 2. 1. 1. 1. 1. 1.\n",
            " 1. 1. 1. 1. 1. 1. 1. 1. 2. 2. 3. 1. 1. 1. 1. 1. 1. 1. 1. 1. 1. 3. 1. 1.\n",
            " 1. 1. 1. 1. 1. 1. 3. 1. 1. 1. 1. 1. 1. 1. 1. 2. 1. 1. 1. 1. 1. 3. 1. 1.\n",
            " 1. 1. 1. 1. 1. 1. 1. 1. 1. 1. 1. 1. 1. 2. 1. 1. 1. 1. 1. 1. 1. 1. 1. 1.\n",
            " 2. 1. 2. 1. 1. 1. 1. 1. 1. 2. 1. 1. 1. 1. 1. 2. 1. 1. 1. 1. 1. 1. 1. 1.\n",
            " 1. 1. 1. 3. 3. 1. 1. 1. 1. 2. 1. 1. 1. 2. 1. 1. 2. 2. 1. 1. 1. 1. 2. 2.\n",
            " 1. 1. 1. 1. 2. 1. 1. 1. 1. 1. 1. 1. 2. 1. 1. 1. 1. 1. 3. 1. 3. 1. 1. 1.\n",
            " 1. 1. 1. 1. 1. 1. 1. 1. 2. 3. 2. 3. 1. 3. 1. 3. 1. 1. 1. 1. 1. 1. 1. 1.\n",
            " 1. 1. 1. 1. 1. 1. 1. 3. 1. 1. 1. 1. 1. 1. 3. 1. 1. 1. 1. 1. 1. 1. 3. 1.\n",
            " 1. 2. 1. 1. 2. 1. 1. 1. 1. 1. 1. 1. 1. 1. 1. 2. 1. 1. 3. 2. 3. 2. 1. 1.\n",
            " 1. 1. 1. 2. 1. 1. 2. 1. 1. 3. 1. 1. 1. 1. 1. 1. 1. 1. 1. 1. 1. 1. 1. 1.\n",
            " 1. 1. 1. 1. 1. 1. 1. 2. 2. 1. 1. 1. 1. 1. 1. 2. 1. 2. 1. 2. 1. 1. 1. 1.\n",
            " 1. 3. 1. 1. 1. 2. 1. 3. 1. 1. 1. 1. 1. 2.]\n",
            "Not Eligible\n",
            "Not Eligible\n",
            "Not Eligible\n",
            "Not Eligible\n",
            "Not Eligible\n",
            "Not Eligible\n",
            "Not Eligible\n",
            "Not Eligible\n",
            "Not Eligible\n",
            "Not Eligible\n",
            "Not Eligible\n",
            "Not Eligible\n",
            "Not Eligible\n",
            "Not Eligible\n",
            "Not Eligible\n",
            "Not Eligible\n",
            "Not Eligible\n",
            "Not Eligible\n",
            "Not Eligible\n",
            "Not Eligible\n",
            "Not Eligible\n",
            "Not Eligible\n"
          ],
          "name": "stdout"
        },
        {
          "output_type": "stream",
          "text": [
            "/usr/local/lib/python3.6/dist-packages/sklearn/linear_model/_logistic.py:940: ConvergenceWarning: lbfgs failed to converge (status=1):\n",
            "STOP: TOTAL NO. of ITERATIONS REACHED LIMIT.\n",
            "\n",
            "Increase the number of iterations (max_iter) or scale the data as shown in:\n",
            "    https://scikit-learn.org/stable/modules/preprocessing.html\n",
            "Please also refer to the documentation for alternative solver options:\n",
            "    https://scikit-learn.org/stable/modules/linear_model.html#logistic-regression\n",
            "  extra_warning_msg=_LOGISTIC_SOLVER_CONVERGENCE_MSG)\n"
          ],
          "name": "stderr"
        },
        {
          "output_type": "execute_result",
          "data": {
            "text/plain": [
              "0.8620689655172413"
            ]
          },
          "metadata": {
            "tags": []
          },
          "execution_count": 2
        },
        {
          "output_type": "display_data",
          "data": {
            "image/png": "[encoded data removed]",
            "text/plain": [
              "<Figure size 432x288 with 1 Axes>"
            ]
          },
          "metadata": {
            "tags": [],
            "needs_background": "light"
          }
        }
      ]
    },
    {
      "cell_type": "code",
      "metadata": {
        "id": "GLCdo3psWJhe"
      },
      "source": [
        ""
      ],
      "execution_count": null,
      "outputs": []
    }
  ]
}