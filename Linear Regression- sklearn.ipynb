{
  "nbformat": 4,
  "nbformat_minor": 0,
  "metadata": {
    "colab": {
      "name": "Untitled0.ipynb",
      "provenance": [],
      "include_colab_link": true
    },
    "kernelspec": {
      "name": "python3",
      "display_name": "Python 3"
    }
  },
  "cells": [
    {
      "cell_type": "markdown",
      "metadata": {
        "id": "view-in-github",
        "colab_type": "text"
      },
      "source": [
        "<a href=\"https://colab.research.google.com/github/17521174/CS114.L11.KHCL/blob/master/Linear%20Regression-%20sklearn.ipynb\" target=\"_parent\"><img src=\"https://colab.research.google.com/assets/colab-badge.svg\" alt=\"Open In Colab\"/></a>"
      ]
    },
    {
      "cell_type": "code",
      "metadata": {
        "id": "SF0eHlN_WTLZ",
        "outputId": "9a20c621-d42f-4524-edb0-915338a5fa83",
        "colab": {
          "base_uri": "https://localhost:8080/",
          "height": 319
        }
      },
      "source": [
        "import numpy as np\n",
        "import pandas as pd \n",
        "import matplotlib.pyplot as plt\n",
        "from sklearn import linear_model\n",
        "from sklearn.metrics import mean_squared_error, r2_score\n",
        "\n",
        "dataset = pd.read_csv('http://cs.uit.edu.vn/data3.txt',header= None)\n",
        "x = dataset.iloc[:, 0].values\n",
        "y = dataset.iloc[:, 1].values\n",
        "\n",
        "x_train = x[0:5000]\n",
        "x_test = x[5000:]\n",
        "y_train = y[0:5000]\n",
        "y_test = y[5000:]\n",
        "\n",
        "x_train= x_train.reshape(-1, 1)\n",
        "y_train= y_train.reshape(-1, 1)\n",
        "x_test = x_test.reshape(-1, 1)\n",
        "y_test = y_test.reshape(-1, 1)\n",
        "\n",
        "regr = linear_model.LinearRegression()\n",
        "\n",
        "regr.fit(x_train , y_train)\n",
        "\n",
        "y_pred = regr.predict(x_test)\n",
        "\n",
        "print('Coefficients: \\n', regr.coef_)\n",
        "\n",
        "print('Mean squared error: %.2f' % mean_squared_error(y_test, y_pred))\n",
        "print('Coefficient of determination: %.2f' % r2_score(y_test, y_pred))\n",
        "\n",
        "plt.scatter(x_test, y_test,  color='black')\n",
        "plt.plot(x_test, y_pred, color='blue', linewidth=3)\n",
        "\n",
        "plt.xticks(())\n",
        "plt.yticks(())\n",
        "\n",
        "plt.show()"
      ],
      "execution_count": 1,
      "outputs": [
        {
          "output_type": "stream",
          "text": [
            "Coefficients: \n",
            " [[9.2709841e-08]]\n",
            "Mean squared error: 0.00\n",
            "Coefficient of determination: 0.99\n"
          ],
          "name": "stdout"
        },
        {
          "output_type": "display_data",
          "data": {
            "image/png": "[encoded data removed]",
            "text/plain": [
              "<Figure size 432x288 with 1 Axes>"
            ]
          },
          "metadata": {
            "tags": []
          }
        }
      ]
    }
  ]
}